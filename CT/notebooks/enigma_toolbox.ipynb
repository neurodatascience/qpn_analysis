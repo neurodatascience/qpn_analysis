{
 "cells": [
  {
   "cell_type": "markdown",
   "metadata": {},
   "source": [
    "### Test notebook to visualize CT surface using ENIGMA toolbox"
   ]
  },
  {
   "cell_type": "code",
   "execution_count": null,
   "metadata": {},
   "outputs": [],
   "source": [
    "from enigmatoolbox.datasets import load_example_data\n",
    "from enigmatoolbox.datasets import load_summary_stats\n",
    "from enigmatoolbox.plotting import plot_subcortical, plot_cortical\n",
    "from enigmatoolbox.utils.parcellation import parcel_to_surface\n"
   ]
  },
  {
   "cell_type": "code",
   "execution_count": null,
   "metadata": {},
   "outputs": [],
   "source": [
    "# cov, metr1_SubVol, metr2_CortThick, metr3_CortSurf = load_example_data() # Errors out \n",
    "\n",
    "sum_stats = load_summary_stats('22q')"
   ]
  },
  {
   "cell_type": "code",
   "execution_count": null,
   "metadata": {},
   "outputs": [],
   "source": []
  }
 ],
 "metadata": {
  "kernelspec": {
   "display_name": "nipoppy",
   "language": "python",
   "name": "python3"
  },
  "language_info": {
   "codemirror_mode": {
    "name": "ipython",
    "version": 3
   },
   "file_extension": ".py",
   "mimetype": "text/x-python",
   "name": "python",
   "nbconvert_exporter": "python",
   "pygments_lexer": "ipython3",
   "version": "3.10.12"
  }
 },
 "nbformat": 4,
 "nbformat_minor": 2
}
