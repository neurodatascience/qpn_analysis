{
 "cells": [
  {
   "cell_type": "markdown",
   "metadata": {},
   "source": [
    "### Notebook to visualize FreeSurfer measaures on surfaces and parcellations"
   ]
  },
  {
   "cell_type": "code",
   "execution_count": 1,
   "metadata": {},
   "outputs": [],
   "source": [
    "from brainspace.datasets import load_group_fc, load_parcellation, load_conte69\n",
    "from brainspace.plotting import plot_hemispheres\n",
    "from brainspace.mesh.mesh_io import read_surface\n",
    "from nibabel.freesurfer.mghformat import load\n",
    "import nibabel as nib\n",
    "import numpy as np\n",
    "import pandas as pd\n",
    "from nilearn import datasets, surface, plotting\n",
    "import seaborn as sns\n",
    "from pathlib import Path"
   ]
  },
  {
   "cell_type": "code",
   "execution_count": 2,
   "metadata": {},
   "outputs": [],
   "source": [
    "### Load data\n",
    "current_release = \"Oct_2024\"\n",
    "FS_version = \"7.3.2\" #\"6.0.1\" #\"7.3.2\"\n",
    "session = \"ses-01\"\n",
    "dataset = \"qpn\"\n",
    "\n",
    "\n",
    "dataset_dir = f\"/home/nikhil/projects/Parkinsons/{dataset}/\"\n",
    "release_dir = f\"{dataset_dir}/releases/{current_release}/\"\n",
    "tabular_dir = f\"{release_dir}/tabular/\"\n",
    "\n",
    "# Current nipoppy manifest\n",
    "manifest_csv = f\"{release_dir}/manifest.csv\"\n",
    "\n",
    "# demographics\n",
    "demographics_csv = f\"{tabular_dir}/demographics.csv\"\n",
    "\n",
    "# Dx\n",
    "dx_csv = f\"{tabular_dir}/assessments/diagnosis.csv\"\n",
    "\n",
    "# imaging derivatives\n",
    "fs_space = \"fsaverage5\"\n",
    "FS_dir = f\"{dataset_dir}/derivatives/freesurfer/v{FS_version}\"\n",
    "# surf_dir = f\"{FS_dir}/surfmaps/{session}/{fs_space}/\"\n",
    "\n",
    "# ROI stats\n",
    "DKT_csv = \"/home/nikhil/projects/Parkinsons/neuro_arch/analysis/IDP/qpn/Aug_2024/agg_dfs/CT_DKT_df.csv\"\n",
    "\n",
    "# Surface maps\n",
    "FS_surf_dir = f\"{FS_dir}/surfmaps/{session}/{fs_space}/\"\n",
    "\n",
    "# Results\n",
    "figs_dir = f\"{dataset_dir}/results/{session}/anat/figs/\"\n",
    "Path(f\"{figs_dir}\").mkdir(parents=True, exist_ok=True)"
   ]
  },
  {
   "cell_type": "markdown",
   "metadata": {},
   "source": [
    "### Get analysis groups"
   ]
  },
  {
   "cell_type": "code",
   "execution_count": null,
   "metadata": {},
   "outputs": [],
   "source": [
    "dx_df = pd.read_csv(dx_csv)\n",
    "dx_df = dx_df[dx_df[\"redcap_event_name\"] == \"Baseline (Arm 1: C-OPN)\"]\n",
    "\n",
    "control_participants = dx_df[dx_df[\"diagnosis_group_for_analysis\"] == \"control\"][\"participant_id\"].unique()\n",
    "PD_participants = dx_df[dx_df[\"diagnosis_group_for_analysis\"] == \"PD\"][\"participant_id\"].unique()\n",
    "\n",
    "print(f\"Control: {len(control_participants)}\")\n",
    "print(f\"PD: {len(PD_participants)}\")\n",
    "\n",
    "dx_df.head()"
   ]
  },
  {
   "cell_type": "markdown",
   "metadata": {},
   "source": [
    "### Plot CT on surface\n",
    "- e.g. lh_surf_concat_thickness_10mm.mgh"
   ]
  },
  {
   "cell_type": "code",
   "execution_count": 4,
   "metadata": {},
   "outputs": [],
   "source": [
    "def read_FS_surf(FS_surf_dir,participant_id, meas=\"thickness\", fwhm=10):\n",
    "    \"\"\" Read freesurfer surfaces for a given participant and hemisphere \"\"\"\n",
    "    # sub-MNI0143_lh_surf_thickness_10mm.mgh\n",
    "\n",
    "    surf_data = {}\n",
    "    try:\n",
    "        for hemi in [\"lh\", \"rh\"]:\n",
    "            surf_file = f\"{FS_surf_dir}/sub-{participant_id}_{hemi}_surf_{meas}_{fwhm}mm.mgh\"\n",
    "            surf_data[hemi] = nib.load(surf_file).get_fdata()\n",
    "            surf_sum = np.sum(surf_data[hemi].flatten())\n",
    "\n",
    "            # check if the surface is empty\n",
    "            if surf_sum == 0:\n",
    "                print(f\"Empty surface for {participant_id} {hemi}\")\n",
    "                return None            \n",
    "                    \n",
    "        return surf_data\n",
    "    \n",
    "    except:\n",
    "        print(f\"Error reading {participant_id}\")\n",
    "        return None    \n",
    "    \n"
   ]
  },
  {
   "cell_type": "code",
   "execution_count": null,
   "metadata": {},
   "outputs": [],
   "source": [
    "PD_surf_data_lh = []\n",
    "PD_surf_data_rh = []\n",
    "control_surf_data_lh = []\n",
    "control_surf_data_rh = []\n",
    "\n",
    "for participant_id in control_participants:\n",
    "    surf_data = read_FS_surf(FS_surf_dir,participant_id)\n",
    "    if surf_data is not None:    \n",
    "        control_surf_data_lh.append(surf_data[\"lh\"]) \n",
    "        control_surf_data_rh.append(surf_data[\"rh\"]) \n",
    "\n",
    "for participant_id in PD_participants:\n",
    "    surf_data = read_FS_surf(FS_surf_dir, participant_id)\n",
    "    if surf_data is not None:\n",
    "        PD_surf_data_lh.append(surf_data[\"lh\"])\n",
    "        PD_surf_data_rh.append(surf_data[\"rh\"])\n",
    "\n",
    "# Global averages for sanity checks\n",
    "control_surf_lh_avg = np.mean(np.squeeze(control_surf_data_lh), axis=1)\n",
    "control_surf_rh_avg = np.mean(np.squeeze(control_surf_data_rh), axis=1)\n",
    "\n",
    "PD_surf_lh_avg = np.mean(np.squeeze(PD_surf_data_lh), axis=1)\n",
    "PD_surf_rh_avg = np.mean(np.squeeze(PD_surf_data_rh), axis=1)\n",
    "\n",
    "print(f\"control_surf_lh_min_max: {np.min(control_surf_lh_avg)}, {np.max(control_surf_lh_avg)}\")\n",
    "print(f\"control_surf_rh_min_max: {np.min(control_surf_rh_avg)}, {np.max(control_surf_rh_avg)}\")\n",
    "\n",
    "print(f\"PD_surf_lh_min_max: {np.min(PD_surf_lh_avg)}, {np.max(PD_surf_lh_avg)}\")\n",
    "print(f\"PD_surf_rh_min_max: {np.min(PD_surf_rh_avg)}, {np.max(PD_surf_rh_avg)}\")\n"
   ]
  },
  {
   "cell_type": "code",
   "execution_count": null,
   "metadata": {},
   "outputs": [],
   "source": [
    "sns.histplot(control_surf_lh_avg.flatten(), color=\"blue\", alpha=0.5)\n",
    "sns.histplot(PD_surf_lh_avg.flatten(), color=\"green\", alpha=0.5)\n",
    "sns.histplot(control_surf_rh_avg.flatten(), color=\"red\", alpha=0.5)\n",
    "sns.histplot(PD_surf_rh_avg.flatten(), color=\"pink\", alpha=0.5)\n"
   ]
  },
  {
   "cell_type": "code",
   "execution_count": 7,
   "metadata": {},
   "outputs": [],
   "source": [
    "template_surface = \"fsaverage5\" # \"fsaverage\" or \"fsaverage5\"\n",
    "\n",
    "if template_surface == \"fsaverage\":\n",
    "    fsaverage_dir = f\"{FS_dir}/output/ses-01/fsaverage/\"\n",
    "    annot_dir = f\"{fsaverage_dir}/label/\"\n",
    "    \n",
    "else:\n",
    "    fsaverage_dir = \"/home/nikhil/projects/neuroinformatics_tools/micapipe/surfaces/fsaverage5/\"\n",
    "    annot_dir = \"/home/nikhil/projects/neuroinformatics_tools/micapipe/parcellations/\"\n",
    "\n",
    "surf_dir = f\"{fsaverage_dir}/surf/\"\n",
    "\n",
    "pial_lh = read_surface(f\"{surf_dir}/lh.pial\", itype='fs')\n",
    "pial_rh = read_surface(f\"{surf_dir}/rh.pial\", itype='fs')"
   ]
  },
  {
   "cell_type": "code",
   "execution_count": null,
   "metadata": {},
   "outputs": [],
   "source": [
    "save_fig = False\n",
    "\n",
    "# average across groups (axis = 0)\n",
    "PD_surf_lh_avg = np.mean(np.squeeze(PD_surf_data_lh), axis=0)\n",
    "PD_surf_rh_avg = np.mean(np.squeeze(PD_surf_data_rh), axis=0)\n",
    "\n",
    "PD_surf_avg = [np.expand_dims(PD_surf_lh_avg, axis=(1)), np.expand_dims(PD_surf_rh_avg,axis=(1))]\n",
    "PD_surf_avg = np.squeeze(np.concatenate(PD_surf_avg, axis=0))\n",
    "\n",
    "if save_fig:\n",
    "    save_file = f\"{figs_dir}/CT_surf_PD.png\"\n",
    "else:\n",
    "    save_file = None\n",
    "\n",
    "# Plot the surfaces\n",
    "plot_hemispheres( pial_lh, pial_rh, array_name=PD_surf_avg, size=(900, 250), color_bar='bottom', zoom=1.25, embed_nb=True, \n",
    "                 interactive=True, share='both',layout_style=\"compact\", #filename=save_file,\n",
    "                 nan_color=(255, 255, 255, 1), color_range=(1.5, 3), cmap=\"inferno\", transparent_bg=True)\n",
    "\n"
   ]
  },
  {
   "cell_type": "code",
   "execution_count": null,
   "metadata": {},
   "outputs": [],
   "source": [
    "save_fig = False\n",
    "\n",
    "# average across groups (axis = 0)\n",
    "control_surf_lh_avg = np.mean(np.squeeze(control_surf_data_lh), axis=0)\n",
    "control_surf_rh_avg = np.mean(np.squeeze(control_surf_data_rh), axis=0)\n",
    "\n",
    "control_surf_avg = [np.expand_dims(control_surf_lh_avg, axis=(1)), np.expand_dims(control_surf_rh_avg,axis=(1))]\n",
    "control_surf_avg = np.squeeze(np.concatenate(control_surf_avg, axis=0))\n",
    "\n",
    "if save_fig:\n",
    "    save_file = f\"{figs_dir}/CT_surf_control.png\"\n",
    "else:\n",
    "    save_file = None\n",
    "\n",
    "# Plot the surfaces\n",
    "plot_hemispheres( pial_lh, pial_rh, array_name=control_surf_avg, size=(900, 250), color_bar='bottom', zoom=1.25, embed_nb=True, \n",
    "                 interactive=True, share='both',layout_style=\"compact\", #filename=save_file,\n",
    "                 nan_color=(255, 255, 255, 1), color_range=(1.5, 3), cmap=\"inferno\", transparent_bg=True)\n",
    "\n"
   ]
  },
  {
   "cell_type": "markdown",
   "metadata": {},
   "source": [
    "### Difference between CTRL and PD"
   ]
  },
  {
   "cell_type": "code",
   "execution_count": null,
   "metadata": {},
   "outputs": [],
   "source": [
    "PD_minus_control_surf_avg = PD_surf_avg - control_surf_avg\n",
    "\n",
    "# Plot the surfaces\n",
    "plot_hemispheres( pial_lh, pial_rh, array_name=PD_minus_control_surf_avg, size=(900, 250), color_bar='bottom', zoom=1.25, embed_nb=True, \n",
    "                 interactive=True, share='both',layout_style=\"compact\",\n",
    "                 nan_color=(255, 255, 255, 1), color_range=(-.2,.2), cmap=\"coolwarm\", transparent_bg=True)\n",
    "\n"
   ]
  },
  {
   "cell_type": "code",
   "execution_count": null,
   "metadata": {},
   "outputs": [],
   "source": [
    "from enigmatoolbox.utils.parcellation import surface_to_parcel, parcel_to_surface\n",
    "from enigmatoolbox.plotting import plot_cortical\n",
    "\n",
    "print(\"control_surf_avg\")\n",
    "print(f\"shape of surface: {control_surf_avg.shape}\")\n",
    "print(f\"mean CT: {np.mean(control_surf_avg):3.2f}, min: {np.min(control_surf_avg):3.2f}, max: {np.max(control_surf_avg):3.2f}\")\n",
    "\n",
    "CT_aparc_fsa5 = surface_to_parcel(control_surf_avg, 'aparc_fsa5')\n",
    "\n",
    "print(\"surface to parcel\")\n",
    "print(f\"shape of parcels: {CT_aparc_fsa5.shape}\")\n",
    "print(f\"mean CT: {np.mean(CT_aparc_fsa5):3.2f}, min: {np.min(CT_aparc_fsa5):3.2f}, max: {np.max(CT_aparc_fsa5):3.2f}\")\n",
    "\n",
    "CT_fsa5 = parcel_to_surface(CT_aparc_fsa5, 'aparc_fsa5')\n",
    "print(\"parcel to surface\")\n",
    "print(f\"shape of surface: {CT_fsa5.shape}\")\n",
    "print(f\"mean CT: {np.mean(CT_fsa5):3.2f}, min: {np.min(CT_fsa5):3.2f}, max: {np.max(CT_fsa5):3.2f}\")\n",
    "\n",
    "# aparc_fsa5"
   ]
  },
  {
   "cell_type": "code",
   "execution_count": null,
   "metadata": {},
   "outputs": [],
   "source": [
    "plot_cortical(array_name=CT_fsa5, surface_name=\"fsa5\", size=(800, 400),\n",
    "              cmap='RdBu_r', color_bar=True, embed_nb=True, nan_color=(255, 255, 255, 1),\n",
    "                 interactive=False, share='both',color_range=(-5,5),)"
   ]
  },
  {
   "cell_type": "markdown",
   "metadata": {},
   "source": [
    "### Plot average CT per parcel"
   ]
  },
  {
   "cell_type": "code",
   "execution_count": null,
   "metadata": {},
   "outputs": [],
   "source": [
    "def get_mean_CT_per_parcel(labels, CT_vals, round_decimals=1):\n",
    "\n",
    "    CT_parcel_df = pd.DataFrame()\n",
    "    CT_parcel_df[\"CT\"] = CT_vals\n",
    "    CT_parcel_df[\"label\"] = labels\n",
    "    mean_CT_per_label_df = CT_parcel_df.groupby(\"label\").mean().reset_index()\n",
    "    label_CT_map_dict = dict(zip(mean_CT_per_label_df[\"label\"], mean_CT_per_label_df[\"CT\"]))\n",
    "    CT_parcel_df[\"CT_parcel\"] = CT_parcel_df[\"label\"].replace(label_CT_map_dict)\n",
    "    mean_CT_parcel = np.array(CT_parcel_df[\"CT_parcel\"],dtype=np.float32).round(round_decimals)\n",
    "\n",
    "    return mean_CT_parcel"
   ]
  },
  {
   "cell_type": "markdown",
   "metadata": {},
   "source": [
    "### Controls"
   ]
  },
  {
   "cell_type": "code",
   "execution_count": null,
   "metadata": {},
   "outputs": [],
   "source": [
    "# plot mean CT per parcel on surface\n",
    "plot_array = get_mean_CT_per_parcel(labels, CTRL_surf)\n",
    "cmap = \"inferno\"\n",
    "plot_hemispheres(pial_lh, pial_rh, array_name=plot_array, size=(900, 250), zoom=1.25, embed_nb=True, interactive=False, share='both',\n",
    "                 nan_color=(0, 0, 0, 1), cmap=cmap, transparent_bg=True,color_bar='bottom') #color_range=(1.5, 4)"
   ]
  },
  {
   "cell_type": "markdown",
   "metadata": {},
   "source": [
    "### PD"
   ]
  },
  {
   "cell_type": "code",
   "execution_count": null,
   "metadata": {},
   "outputs": [],
   "source": [
    "# plot mean CT per parcel on surface\n",
    "plot_array = get_mean_CT_per_parcel(labels, PD_surf)\n",
    "cmap = \"inferno\"\n",
    "plot_hemispheres(pial_lh, pial_rh, array_name=plot_array, size=(900, 250), zoom=1.25, embed_nb=True, interactive=False, share='both',\n",
    "                 nan_color=(0, 0, 0, 1), cmap=cmap, transparent_bg=True, color_bar='bottom') #color_range=(1.5, 4),"
   ]
  },
  {
   "cell_type": "markdown",
   "metadata": {},
   "source": [
    "### Difference between CTRL and PD"
   ]
  },
  {
   "cell_type": "code",
   "execution_count": null,
   "metadata": {},
   "outputs": [],
   "source": [
    "# plot mean CT per parcel on surface\n",
    "plot_thresh = 0.05\n",
    "diff_surf = surf_dict[\"CTRL\"] - surf_dict[\"PD\"]\n",
    "diff_surf[(diff_surf < plot_thresh) & (diff_surf > -plot_thresh)] = 0\n",
    "\n",
    "plot_array = get_mean_CT_per_parcel(labels, diff_surf, round_decimals=2)\n",
    "color_range = (-max(abs(plot_array)), max(abs(plot_array)))\n",
    "cmap = \"coolwarm\"\n",
    "plot_hemispheres(pial_lh, pial_rh, array_name=plot_array, size=(900, 250), zoom=1.25, embed_nb=True, interactive=False, share='both',\n",
    "                 nan_color=(0, 0, 0, 1), cmap=cmap, transparent_bg=True, color_bar='bottom',color_range=color_range)"
   ]
  }
 ],
 "metadata": {
  "kernelspec": {
   "display_name": "napari",
   "language": "python",
   "name": "python3"
  },
  "language_info": {
   "codemirror_mode": {
    "name": "ipython",
    "version": 3
   },
   "file_extension": ".py",
   "mimetype": "text/x-python",
   "name": "python",
   "nbconvert_exporter": "python",
   "pygments_lexer": "ipython3",
   "version": "3.10.12"
  }
 },
 "nbformat": 4,
 "nbformat_minor": 2
}
