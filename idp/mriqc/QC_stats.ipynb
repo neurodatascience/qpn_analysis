{
 "cells": [
  {
   "cell_type": "markdown",
   "metadata": {},
   "source": [
    "## Analyze MRIQC IQMs\n"
   ]
  },
  {
   "cell_type": "code",
   "execution_count": null,
   "metadata": {},
   "outputs": [],
   "source": [
    "import pandas as pd\n",
    "import matplotlib.pyplot as plt\n",
    "import seaborn as sns\n",
    "import numpy as np\n",
    "from pathlib import Path\n",
    "import json"
   ]
  },
  {
   "cell_type": "markdown",
   "metadata": {},
   "source": [
    "### Load data (paths are specified in a local config file)"
   ]
  },
  {
   "cell_type": "code",
   "execution_count": null,
   "metadata": {},
   "outputs": [],
   "source": [
    "local_config_f = Path('../../local_config.json')\n",
    "if local_config_f.exists():\n",
    "    with open(local_config_f) as f:\n",
    "        local_config = json.load(f)\n",
    "else:\n",
    "    print(f'Specify a local_config.json with path to nipoppy DATASET_DIR')\n",
    "\n",
    "print('local_config:', local_config)\n",
    "\n",
    "\n",
    "dx_color_palette = local_config['plot_styles']['DX_COLOR_PALETTE']\n",
    "palette = [dx_color_palette[\"PD\"], dx_color_palette[\"control\"]]\n",
    "\n",
    "sns.palplot(palette)"
   ]
  },
  {
   "cell_type": "code",
   "execution_count": null,
   "metadata": {},
   "outputs": [],
   "source": [
    "dataset_dir = local_config['DATASET_DIR']\n",
    "current_release = local_config['DATASET_RELEASE']\n",
    "\n",
    "mriqc_version = \"23.1.0\"\n",
    "session = \"ses-01\"\n",
    "\n",
    "release_dir = f\"{dataset_dir}/releases/{current_release}/\"\n",
    "tabular_dir = f\"{release_dir}/tabular/\"\n",
    "\n",
    "# Current nipoppy manifest\n",
    "manifest_csv = f\"{release_dir}/manifest.csv\"\n",
    "\n",
    "# demographics\n",
    "demographics_csv = f\"{tabular_dir}/demographics.csv\"\n",
    "\n",
    "# Dx\n",
    "dx_csv = f\"{tabular_dir}/assessments/diagnosis.csv\"\n",
    "\n",
    "# mri_info\n",
    "mri_sessions_csv = f\"{tabular_dir}/mri_info/mri_sessions.csv\"\n",
    "\n",
    "# collated qc outputs\n",
    "mriqc_dir = f\"{dataset_dir}/derivatives/mriqc/{mriqc_version}/idp/{session}/\"\n",
    "\n",
    "figs_dir = f\"{dataset_dir}/results/{session}/mriqc/figs/\""
   ]
  },
  {
   "cell_type": "markdown",
   "metadata": {},
   "source": [
    "### Colormaps"
   ]
  },
  {
   "cell_type": "code",
   "execution_count": null,
   "metadata": {},
   "outputs": [],
   "source": [
    "from enum import Enum\n",
    "class my_colors(Enum):\n",
    "    CONTROL = \"#8d99ae\"\n",
    "    PD = \"#e63946\"\n",
    "    \n",
    "color_list = [my_colors.PD.value, my_colors.CONTROL.value,]\n",
    "palette = sns.color_palette(palette=color_list) #sns.husl_palette()\n",
    "\n",
    "sns.palplot(palette)"
   ]
  },
  {
   "cell_type": "markdown",
   "metadata": {},
   "source": [
    "### manifest"
   ]
  },
  {
   "cell_type": "code",
   "execution_count": null,
   "metadata": {},
   "outputs": [],
   "source": [
    "manifest_cols = [\"participant_id\", \"visit\", \"session\"]\n",
    "nipoppy_df = pd.read_csv(manifest_csv)\n",
    "nipoppy_df = nipoppy_df[manifest_cols] \n",
    "nipoppy_participants = nipoppy_df[\"participant_id\"].unique()\n",
    "n_nipoppy_participants = len(nipoppy_participants)\n",
    "print(f\"nipoppy participants: {n_nipoppy_participants}\")\n",
    "nipoppy_df.head()"
   ]
  },
  {
   "cell_type": "markdown",
   "metadata": {},
   "source": [
    "### Diagnosis info\n",
    "- as confirmed later by the clinicians"
   ]
  },
  {
   "cell_type": "code",
   "execution_count": null,
   "metadata": {},
   "outputs": [],
   "source": [
    "dx_df = pd.read_csv(dx_csv)\n",
    "dx_df = dx_df[dx_df[\"redcap_event_name\"] == \"Baseline (Arm 1: C-OPN)\"]\n",
    "\n",
    "control_participants = dx_df[dx_df[\"diagnosis_group_for_analysis\"] == \"control\"][\"participant_id\"].unique()\n",
    "PD_participants = dx_df[dx_df[\"diagnosis_group_for_analysis\"] == \"PD\"][\"participant_id\"].unique()\n",
    "\n",
    "all_participants = list(control_participants) + list(PD_participants)\n",
    "\n",
    "dx_df = dx_df[dx_df[\"redcap_event_name\"] == \"Baseline (Arm 1: C-OPN)\"][[\"participant_id\", \"diagnosis_group_for_analysis\"]]\n",
    "\n",
    "print(f\"PD + control: {len(all_participants)}\")\n",
    "print(f\"Control: {len(control_participants)}\")\n",
    "print(f\"PD: {len(PD_participants)}\")\n",
    "\n",
    "dx_df.head()"
   ]
  },
  {
   "cell_type": "markdown",
   "metadata": {},
   "source": [
    "### Read mriqc output"
   ]
  },
  {
   "cell_type": "code",
   "execution_count": null,
   "metadata": {},
   "outputs": [],
   "source": [
    "anat_csv = f\"{mriqc_dir}/anat_IQM.csv\"\n",
    "func_csv = f\"{mriqc_dir}/func_IQM.csv\"\n",
    "\n",
    "anat_df = pd.read_csv(anat_csv)\n",
    "func_df = pd.read_csv(func_csv)\n",
    "\n",
    "func_df.head()\n"
   ]
  },
  {
   "cell_type": "markdown",
   "metadata": {},
   "source": [
    "### Plot anat IQMs"
   ]
  },
  {
   "cell_type": "code",
   "execution_count": null,
   "metadata": {},
   "outputs": [],
   "source": [
    "save_fig = True\n",
    "\n",
    "IQM_cols = [\"cnr\", \"snr_gm\", \"snr_wm\", \"snr_csf\", \"cjv\", \"efc\", \"fber\", \"rpve_gm\", \"rpve_wm\", \"rpve_csf\"] #\n",
    "\n",
    "demo_cols = [\"participant_id\", \"session_id\", \"diagnosis_group_for_analysis\"]\n",
    "plot_groups = [\"control\",\"PD\"]\n",
    "\n",
    "anat_dx_df = pd.merge(anat_df, dx_df, on=\"participant_id\")[IQM_cols + demo_cols]\n",
    "anat_dx_df = anat_dx_df[anat_dx_df[\"diagnosis_group_for_analysis\"].isin(plot_groups)]\n",
    "\n",
    "anat_df_melt = anat_dx_df.melt(\n",
    "    id_vars=demo_cols, \n",
    "    var_name=\"IQM\", \n",
    "    value_name=\"value\")\n",
    "\n",
    "plot_df = anat_df_melt.copy()\n",
    "plot_df[\"group\"] = plot_df[\"diagnosis_group_for_analysis\"] # rename for plotting\n",
    "\n",
    "n_participants = plot_df[\"participant_id\"].nunique()\n",
    "print(f\"n_participants: {n_participants}\")\n",
    "\n",
    "participants_per_group = plot_df.groupby([\"group\"])[\"participant_id\"].nunique()\n",
    "print(f\"participants_per_group: {participants_per_group}\")\n",
    "\n",
    "\n",
    "sns.set_theme(font_scale=4)\n",
    "with sns.axes_style(\"whitegrid\"):\n",
    "    g = sns.catplot(x=\"group\",y=\"value\", col=\"IQM\", col_wrap=5, sharey=False,\n",
    "                    kind=\"box\",palette=palette, data=plot_df, aspect=1, height=8)\n",
    "    # g.tick_params(axis='x', rotation=90, labelsize=14)\n",
    "\n",
    "if save_fig:\n",
    "    print(f\"Saving figure to {figs_dir}\")\n",
    "    g.savefig(f\"{figs_dir}/QC_anat.png\")"
   ]
  },
  {
   "cell_type": "markdown",
   "metadata": {},
   "source": [
    "### Plot func IQMs"
   ]
  },
  {
   "cell_type": "code",
   "execution_count": null,
   "metadata": {},
   "outputs": [],
   "source": [
    "save_fig = True\n",
    "\n",
    "IQM_cols = [\"snr\", \"efc\", \"fber\", \"tsnr\", \"dvars_nstd\", \"gcor\", \"fd_mean\", \"gsr_x\", \"gsr_y\", \"aqi\"] #\"fwhm_avg\", \"aor\",\n",
    "\n",
    "demo_cols = [\"participant_id\", \"session_id\", \"diagnosis_group_for_analysis\"]\n",
    "plot_groups = [\"control\",\"PD\"]\n",
    "\n",
    "func_dx_df = pd.merge(func_df, dx_df, on=\"participant_id\")[IQM_cols + demo_cols]\n",
    "func_dx_df = func_dx_df[func_dx_df[\"diagnosis_group_for_analysis\"].isin(plot_groups)]\n",
    "\n",
    "func_df_melt = func_dx_df.melt(\n",
    "    id_vars=demo_cols, \n",
    "    var_name=\"IQM\", \n",
    "    value_name=\"value\")\n",
    "\n",
    "plot_df = func_df_melt.copy()\n",
    "plot_df[\"group\"] = plot_df[\"diagnosis_group_for_analysis\"] # rename for plotting\n",
    "\n",
    "n_participants = plot_df[\"participant_id\"].nunique()\n",
    "print(f\"n_participants: {n_participants}\")\n",
    "\n",
    "participants_per_group = plot_df.groupby([\"group\"])[\"participant_id\"].nunique()\n",
    "print(f\"participants_per_group: {participants_per_group}\")\n",
    "\n",
    "\n",
    "sns.set_theme(font_scale=4)\n",
    "with sns.axes_style(\"whitegrid\"):\n",
    "    g = sns.catplot(x=\"group\",y=\"value\", col=\"IQM\", col_wrap=5, sharey=False,\n",
    "                    kind=\"box\",palette=palette, data=plot_df, aspect=1, height=8)\n",
    "    # g.tick_params(axis='x', rotation=90, labelsize=14)\n",
    "\n",
    "if save_fig:\n",
    "    print(f\"Saving figure to {figs_dir}\")\n",
    "    g.savefig(f\"{figs_dir}/QC_func.png\")"
   ]
  },
  {
   "cell_type": "code",
   "execution_count": null,
   "metadata": {},
   "outputs": [],
   "source": [
    "from matplotlib.colors import LinearSegmentedColormap\n",
    "corr_df = func_df[IQM_cols].corr()\n",
    "n_color_bins = 10\n",
    "max_color = '#e63946'\n",
    "\n",
    "cmap = LinearSegmentedColormap.from_list('', ['white', max_color], n_color_bins)\n",
    "with sns.axes_style(\"white\"):\n",
    "    sns.set_context(\"paper\")\n",
    "    fig, ax = plt.subplots(nrows=1,ncols=1, figsize=(15, 7))\n",
    "    cbar_ax = fig.add_axes([.905, .2, .01, .6])\n",
    "    \n",
    "    g = sns.heatmap(corr_df, square=False, xticklabels=True, yticklabels=True, cmap=cmap, ax=ax, \n",
    "                        cbar_kws= {'label': 'conmat-count'},cbar_ax=cbar_ax)"
   ]
  },
  {
   "cell_type": "code",
   "execution_count": null,
   "metadata": {},
   "outputs": [],
   "source": []
  }
 ],
 "metadata": {
  "interpreter": {
   "hash": "999c495fe9dc36b558f9181c52eb411f8d79bcfd8fb93141da57ede7d0ce5d9c"
  },
  "kernelspec": {
   "display_name": "Python 3.7.0 ('green_compute')",
   "language": "python",
   "name": "python3"
  },
  "language_info": {
   "codemirror_mode": {
    "name": "ipython",
    "version": 3
   },
   "file_extension": ".py",
   "mimetype": "text/x-python",
   "name": "python",
   "nbconvert_exporter": "python",
   "pygments_lexer": "ipython3",
   "version": "3.10.12"
  }
 },
 "nbformat": 4,
 "nbformat_minor": 2
}
