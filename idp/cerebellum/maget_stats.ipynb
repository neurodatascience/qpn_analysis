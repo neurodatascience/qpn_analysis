{
 "cells": [
  {
   "cell_type": "markdown",
   "metadata": {},
   "source": [
    "### Compare cerebellar volumes across datasets\n",
    "\n",
    "#### Datasets\n",
    "- NIMHANS\n",
    "- QPN\n"
   ]
  },
  {
   "cell_type": "code",
   "execution_count": null,
   "metadata": {},
   "outputs": [],
   "source": [
    "import sys\n",
    "import pandas as pd\n",
    "import scipy.stats\n",
    "import matplotlib.pyplot as plt\n",
    "import seaborn as sns\n",
    "import numpy as np\n",
    "import nibabel as nib\n",
    "from nilearn import datasets, surface, plotting\n",
    "from pathlib import Path"
   ]
  },
  {
   "cell_type": "code",
   "execution_count": null,
   "metadata": {},
   "outputs": [],
   "source": [
    "dataset = \"qpn\"\n",
    "current_release = \"Jan_2024\"\n",
    "maget_verion = \"1.0.0\"\n",
    "session = \"ses-01\"\n",
    "\n",
    "dataset_dir = f\"/home/nikhil/projects/Parkinsons/{dataset}/\"\n",
    "tabular_dir = f\"{dataset_dir}/releases/{current_release}/tabular/\"\n",
    "\n",
    "# Current nipoppy manifest\n",
    "manifest_csv = f\"{tabular_dir}/manifest.csv\"\n",
    "\n",
    "# demographics\n",
    "demographics_csv = f\"{tabular_dir}/demographics/demographics.csv\"\n",
    "\n",
    "# imaging derivatives\n",
    "maget_dir = f\"{dataset_dir}/derivatives/maget_brain/v{maget_verion}/\"\n",
    "CB_vol_csv = f\"{maget_dir}/output/ses-01/cerebellum_segmentations/cerebellar_volumes.csv\"\n",
    "\n",
    "# save dirs\n",
    "results_dir = f\"/home/nikhil/projects/Parkinsons/neuro_arch/analysis/IDP/{dataset}/{current_release}/agg_dfs/\"\n",
    "figs_dir = f\"/home/nikhil/projects/Parkinsons/neuro_arch/analysis/IDP/{dataset}/{current_release}/figs/\"\n",
    "\n",
    "# Create dirs for results if they don't exist\n",
    "Path(f\"{results_dir}\").mkdir(parents=True, exist_ok=True)\n",
    "Path(f\"{figs_dir}\").mkdir(parents=True, exist_ok=True)"
   ]
  },
  {
   "cell_type": "code",
   "execution_count": null,
   "metadata": {},
   "outputs": [],
   "source": [
    "from enum import Enum\n",
    "class my_colors(Enum):\n",
    "    CONTROL = \"#8d99ae\"\n",
    "    PD = \"#e63946\"\n",
    "    \n",
    "color_list = [my_colors.PD.value, my_colors.CONTROL.value,]\n",
    "palette = sns.color_palette(palette=color_list) #sns.husl_palette()\n",
    "\n",
    "sns.palplot(palette)"
   ]
  },
  {
   "cell_type": "code",
   "execution_count": null,
   "metadata": {},
   "outputs": [],
   "source": [
    "def quick_QC(df, check_cols, min_val, max_val, index_col=\"participant_id\"):\n",
    "    \"\"\"Checks for NaNs and out of range outliers \"\"\"\n",
    "    \n",
    "    if index_col in df.columns:\n",
    "        # check NaNs\n",
    "        nan_participants = df[df[check_cols].isna().any(axis=1)][index_col].values\n",
    "        n_nans = len(nan_participants)\n",
    "\n",
    "        # check range\n",
    "        outlier_participants = df[df[check_cols].apply(lambda x: (x < min_val) | (x > max_val)).any(axis=1)][index_col].values\n",
    "        n_outliers = len(outlier_participants)\n",
    "\n",
    "        print(f\"found {n_nans} NaNs and {n_outliers} outliers\")\n",
    "        return list(nan_participants), list(outlier_participants)\n",
    "    \n",
    "    else:\n",
    "        print(f\"Provide an index column\")\n",
    "        return None, None\n",
    "\n",
    "def merge_CB_demo_df(CB_df, demo_df, cerebellar_lobules):\n",
    "    left_lobules = list(\"L_\" + pd.Series(cerebellar_lobules))\n",
    "    right_lobules = list(\"R_\" + pd.Series(cerebellar_lobules))\n",
    "    lh_lobule_dict = dict(zip(left_lobules,cerebellar_lobules))\n",
    "    rh_lobule_dict = dict(zip(right_lobules,cerebellar_lobules))\n",
    "\n",
    "    CB_df[\"bids_id\"] = CB_df[\"Subject\"].str.rsplit(\"/\", n=1, expand=True)[1].str.split(\"_\", expand=True)[0]\n",
    "    CB_df[\"participant_id\"] = CB_df[\"bids_id\"].str.split(\"-\", expand=True)[1]\n",
    "\n",
    "    # merge with demo\n",
    "    CB_demo_df = pd.merge(CB_df, demo_df, on=\"participant_id\", how=\"inner\")\n",
    "    CB_demo_df = CB_demo_df.drop(columns=[\"Subject\"])\n",
    "\n",
    "    demo_cols = list(set(CB_demo_df.columns) - set(left_lobules) - set(right_lobules))\n",
    "\n",
    "    left_CB_df = CB_demo_df[demo_cols + left_lobules].copy()\n",
    "    left_CB_df[\"hemi\"] = \"left\"\n",
    "    right_CB_df = CB_demo_df[demo_cols + right_lobules].copy()\n",
    "    right_CB_df[\"hemi\"] = \"right\"\n",
    "\n",
    "    # add total CB vol column\n",
    "    left_CB_df[\"total_CB_vol\"] = left_CB_df[left_lobules].sum(axis=1)\n",
    "    right_CB_df[\"total_CB_vol\"] = right_CB_df[right_lobules].sum(axis=1)\n",
    "\n",
    "    # rename columns to stack vertically\n",
    "    left_CB_df = left_CB_df.rename(columns=lh_lobule_dict)\n",
    "    right_CB_df = right_CB_df.rename(columns=rh_lobule_dict)\n",
    "    \n",
    "    CB_demo_df = pd.concat([left_CB_df, right_CB_df], axis=0)\n",
    "\n",
    "    return CB_demo_df"
   ]
  },
  {
   "cell_type": "markdown",
   "metadata": {},
   "source": [
    "### Demographic data"
   ]
  },
  {
   "cell_type": "code",
   "execution_count": null,
   "metadata": {},
   "outputs": [],
   "source": [
    "group_col = \"group_at_screening\"\n",
    "\n",
    "# useful groups:\n",
    "useful_groups = [\"PD\", \"control\"]\n",
    "\n",
    "demographics_df = pd.read_csv(demographics_csv)\n",
    "demographics_df = demographics_df[demographics_df[\"visit\"] == \"MRI_v1\"]\n",
    "\n",
    "participants = demographics_df[\"participant_id\"].unique()\n",
    "n_participants = len(participants)\n",
    "print(f\"n_participants: {n_participants}\")\n",
    "\n",
    "# replace column values\n",
    "demographics_df[group_col] = demographics_df[group_col].replace({\"PD   (Parkinson's Disease)/Maladie de Parkinson\":\"PD\", \n",
    "                                                               \"Healthy control/Contrôle\": \"control\",\n",
    "                                                               \"PPS (Parkinson Plus Syndrome)/PPS (Syndrome Parkinson Plus)\": \"PPS\"})\n",
    "\n",
    "group_counts = demographics_df.groupby([group_col])[\"participant_id\"].count()\n",
    "print(f\"group counts: {group_counts}\")\n",
    "\n",
    "# filter out useful groups\n",
    "demographics_df = demographics_df[demographics_df[group_col].isin(useful_groups)]\n",
    "demographics_df = demographics_df.rename(columns={group_col:\"group\"})\n",
    "\n",
    "demographics_df.head()"
   ]
  },
  {
   "cell_type": "markdown",
   "metadata": {},
   "source": [
    "### Get merged cerebellar volumes + demo df"
   ]
  },
  {
   "cell_type": "code",
   "execution_count": null,
   "metadata": {},
   "outputs": [],
   "source": [
    "cerebellar_lobules = ['I_II', 'III', 'IV', 'V', 'VI', 'Crus_I', 'Crus_II','VIIB', 'VIIIA', 'VIIIB', 'IX', 'X', 'CM']\n",
    "demo_cols = [\"participant_id\", \"group\",\"visit\"]\n",
    "demographics_df = demographics_df[demo_cols].copy()\n",
    "\n",
    "CB_vols_df = pd.read_csv(f\"{CB_vol_csv}\")\n",
    "n_CB_participants = CB_vols_df[\"Subject\"].nunique()\n",
    "print(f\"n_CB_participants: {n_CB_participants}\")\n",
    "\n",
    "CB_demo_vols_df = merge_CB_demo_df(CB_vols_df, demographics_df, cerebellar_lobules)\n",
    "CB_demo_vols_df.head()"
   ]
  },
  {
   "cell_type": "markdown",
   "metadata": {},
   "source": [
    "### Remove outliers\n",
    " This is structure specific (need to be QCed visually)"
   ]
  },
  {
   "cell_type": "code",
   "execution_count": null,
   "metadata": {},
   "outputs": [],
   "source": [
    "min_vol_thresh_list = [25, 400, 900, 2000, 4500, 6000, 4000, 2000, 2000, 1500, 1500, 200, 4000, 32000]\n",
    "max_vol_thresh_list = [200, 1300, 3500, 6000, 11000, 18000, 13000, 7000, 8000, 5000, 6000, 800, 13000, 80000]\n",
    "outlier_min_thesh_dict = dict(zip(cerebellar_lobules, min_vol_thresh_list))\n",
    "outlier_max_thesh_dict = dict(zip(cerebellar_lobules, max_vol_thresh_list))\n",
    "\n",
    "print(\"Removing outliers\")\n",
    "for roi, thresh in outlier_min_thesh_dict.items():\n",
    "    n_participants = CB_demo_vols_df[\"participant_id\"].nunique()\n",
    "    print(f\"roi: {roi}, n_participants: {n_participants}\")\n",
    "    CB_vol_df = CB_demo_vols_df[CB_demo_vols_df[roi] > thresh].copy()\n",
    "    n_participants = CB_demo_vols_df[\"participant_id\"].nunique()\n",
    "    print(f\"n_participants after outlier removal: {n_participants}\")\n",
    "\n",
    "for roi, thresh in outlier_max_thesh_dict.items():\n",
    "    n_participants = CB_demo_vols_df[\"participant_id\"].nunique()\n",
    "    print(f\"roi: {roi}, n_participants: {n_participants}\")\n",
    "    CB_vol_df = CB_demo_vols_df[CB_demo_vols_df[roi] < thresh].copy()\n",
    "    n_participants = CB_demo_vols_df[\"participant_id\"].nunique()\n",
    "    print(f\"n_participants after outlier removal: {n_participants}\")\n"
   ]
  },
  {
   "attachments": {},
   "cell_type": "markdown",
   "metadata": {},
   "source": [
    "### Plots"
   ]
  },
  {
   "cell_type": "code",
   "execution_count": null,
   "metadata": {},
   "outputs": [],
   "source": [
    "save_fig = False\n",
    "# CB_demo_vols_df = CB_demo_vols_df.drop(columns=[\"bids_id\"])\n",
    "CB_vol_df_melt = CB_demo_vols_df.melt(\n",
    "    id_vars=demo_cols + [\"bids_id\", \"hemi\"],\n",
    "    var_name=\"ROI\", \n",
    "    value_name=\"volume\",\n",
    ")\n",
    "\n",
    "plot_df = CB_vol_df_melt.copy()\n",
    "\n",
    "sns.set_theme(font_scale=4)\n",
    "with sns.axes_style(\"whitegrid\"):\n",
    "    g = sns.catplot(y=\"volume\",x=\"hemi\", hue=\"group\", col=\"ROI\",kind=\"box\", col_wrap=7, #col_order=hemi_roi_list,\n",
    "    palette=palette, data=plot_df, aspect=1, height=10, sharey=False)\n",
    "    # g.tick_params(axis='x', rotation=90, labelsize=14)\n",
    "    \n",
    "if save_fig:\n",
    "    g.savefig(f\"{figs_dir}/CB_vol.png\")"
   ]
  },
  {
   "cell_type": "code",
   "execution_count": null,
   "metadata": {},
   "outputs": [],
   "source": [
    "import numpy as np\n",
    "\n"
   ]
  },
  {
   "cell_type": "code",
   "execution_count": null,
   "metadata": {},
   "outputs": [],
   "source": []
  }
 ],
 "metadata": {
  "kernelspec": {
   "display_name": "parkinsons",
   "language": "python",
   "name": "python3"
  },
  "language_info": {
   "codemirror_mode": {
    "name": "ipython",
    "version": 3
   },
   "file_extension": ".py",
   "mimetype": "text/x-python",
   "name": "python",
   "nbconvert_exporter": "python",
   "pygments_lexer": "ipython3",
   "version": "3.10.12"
  }
 },
 "nbformat": 4,
 "nbformat_minor": 2
}
