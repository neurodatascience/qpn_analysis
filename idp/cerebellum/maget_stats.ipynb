{
 "cells": [
  {
   "cell_type": "markdown",
   "metadata": {},
   "source": [
    "## Compute and plot cerebellar volumes\n"
   ]
  },
  {
   "cell_type": "code",
   "execution_count": null,
   "metadata": {},
   "outputs": [],
   "source": [
    "import pandas as pd\n",
    "import matplotlib.pyplot as plt\n",
    "import seaborn as sns\n",
    "import numpy as np\n",
    "from pathlib import Path\n",
    "import json"
   ]
  },
  {
   "cell_type": "markdown",
   "metadata": {},
   "source": [
    "### Load data (paths are specified in a local config file)"
   ]
  },
  {
   "cell_type": "code",
   "execution_count": null,
   "metadata": {},
   "outputs": [],
   "source": [
    "local_config_f = Path('../../local_config.json')\n",
    "if local_config_f.exists():\n",
    "    with open(local_config_f) as f:\n",
    "        local_config = json.load(f)\n",
    "else:\n",
    "    print(f'Specify a local_config.json with path to nipoppy DATASET_DIR')\n",
    "\n",
    "print('local_config:', local_config)\n",
    "\n",
    "\n",
    "dx_color_palette = local_config['plot_styles']['DX_COLOR_PALETTE']\n",
    "palette = [dx_color_palette[\"PD\"], dx_color_palette[\"control\"]]\n",
    "\n",
    "sns.palplot(palette)"
   ]
  },
  {
   "cell_type": "code",
   "execution_count": null,
   "metadata": {},
   "outputs": [],
   "source": [
    "dataset_dir = local_config['DATASET_DIR']\n",
    "current_release = local_config['DATASET_RELEASE']\n",
    "\n",
    "pipeline = \"maget_brain\"\n",
    "pipeline_version = \"1.0.0\"\n",
    "session = \"ses-01\"\n",
    "\n",
    "# Current nipoppy manifest\n",
    "manifest_csv = f\"{dataset_dir}/manifest.csv\"\n",
    "\n",
    "# tabular data\n",
    "tabular_dir = f\"{dataset_dir}/tabular/\"\n",
    "\n",
    "# demographics\n",
    "demographics_csv = f\"{tabular_dir}/demographics.csv\"\n",
    "\n",
    "# Dx\n",
    "dx_csv = f\"{tabular_dir}/assessments/diagnosis.csv\"\n",
    "\n",
    "mri_sessions_csv = f\"{tabular_dir}/mri_info/mri_sessions.csv\"\n",
    "\n",
    "# derivative data\n",
    "derivatives_dir = f\"{dataset_dir}/derivatives/\"\n",
    "\n",
    "# IDPs\n",
    "idp_dir = f\"{derivatives_dir}/{pipeline}/{pipeline_version}/idp/\"\n",
    "\n",
    "CB_vol_csv = f\"{idp_dir}/{session}/cerebellar_volumes.csv\"\n",
    "\n",
    "# save dirs\n",
    "results_dir = f\"{dataset_dir}/results/\"\n",
    "figs_dir = f\"{results_dir}ses-01/cerebellum/figs/\"\n",
    "\n",
    "print('results_dir:', results_dir)\n",
    "print('figs_dir:', figs_dir,)"
   ]
  },
  {
   "cell_type": "markdown",
   "metadata": {},
   "source": [
    "### Dx data"
   ]
  },
  {
   "cell_type": "code",
   "execution_count": null,
   "metadata": {},
   "outputs": [],
   "source": [
    "dx_df = pd.read_csv(dx_csv)\n",
    "dx_df = dx_df[dx_df[\"redcap_event_name\"] == \"Baseline (Arm 1: C-OPN)\"]\n",
    "\n",
    "control_participants = dx_df[dx_df[\"diagnosis_group_for_analysis\"] == \"control\"][\"participant_id\"].unique()\n",
    "PD_participants = dx_df[dx_df[\"diagnosis_group_for_analysis\"] == \"PD\"][\"participant_id\"].unique()\n",
    "\n",
    "all_participants = list(control_participants) + list(PD_participants)\n",
    "\n",
    "print(f\"PD + control: {len(all_participants)}\")\n",
    "print(f\"Control: {len(control_participants)}\")\n",
    "print(f\"PD: {len(PD_participants)}\")\n",
    "\n",
    "dx_df.head()"
   ]
  },
  {
   "cell_type": "code",
   "execution_count": null,
   "metadata": {},
   "outputs": [],
   "source": [
    "def merge_CB_dx_df(CB_df, dx_df, cerebellar_lobules):\n",
    "    \"\"\"Merge cerebellar volumes with demographics and/or diagnosis. Then split into left and right hemispheres\"\"\"\n",
    "    left_lobules = list(\"L_\" + pd.Series(cerebellar_lobules))\n",
    "    right_lobules = list(\"R_\" + pd.Series(cerebellar_lobules))\n",
    "    lh_lobule_dict = dict(zip(left_lobules,cerebellar_lobules))\n",
    "    rh_lobule_dict = dict(zip(right_lobules,cerebellar_lobules))\n",
    "\n",
    "    if \"Subject\" in CB_df.columns:\n",
    "        CB_df[\"bids_id\"] = CB_df[\"Subject\"].str.rsplit(\"/\", n=1, expand=True)[1].str.split(\"_\", expand=True)[0]\n",
    "        CB_df[\"participant_id\"] = CB_df[\"bids_id\"].str.split(\"-\", expand=True)[1]\n",
    "        CB_demo_df = CB_demo_df.drop(columns=[\"Subject\"])\n",
    "\n",
    "    # merge with demo\n",
    "    CB_demo_df = pd.merge(CB_df, dx_df, on=\"participant_id\", how=\"inner\")\n",
    "    \n",
    "    # split into left and right hemispheres\n",
    "    demo_cols = list(set(CB_demo_df.columns) - set(left_lobules) - set(right_lobules))\n",
    "\n",
    "    left_CB_df = CB_demo_df[demo_cols + left_lobules].copy()\n",
    "    left_CB_df[\"hemi\"] = \"left\"\n",
    "    right_CB_df = CB_demo_df[demo_cols + right_lobules].copy()\n",
    "    right_CB_df[\"hemi\"] = \"right\"\n",
    "\n",
    "    # add total CB vol column\n",
    "    left_CB_df[\"total_CB_vol\"] = left_CB_df[left_lobules].sum(axis=1)\n",
    "    right_CB_df[\"total_CB_vol\"] = right_CB_df[right_lobules].sum(axis=1)\n",
    "\n",
    "    # rename columns to stack vertically\n",
    "    left_CB_df = left_CB_df.rename(columns=lh_lobule_dict)\n",
    "    right_CB_df = right_CB_df.rename(columns=rh_lobule_dict)\n",
    "    \n",
    "    CB_demo_df = pd.concat([left_CB_df, right_CB_df], axis=0)\n",
    "\n",
    "    return CB_demo_df"
   ]
  },
  {
   "cell_type": "markdown",
   "metadata": {},
   "source": [
    "### Get merged cerebellar volumes + demo df"
   ]
  },
  {
   "cell_type": "code",
   "execution_count": null,
   "metadata": {},
   "outputs": [],
   "source": [
    "cerebellar_lobules = ['I_II', 'III', 'IV', 'V', 'VI', 'Crus_I', 'Crus_II','VIIB', 'VIIIA', 'VIIIB', 'IX', 'X', 'CM']\n",
    "\n",
    "CB_vols_df = pd.read_csv(f\"{CB_vol_csv}\")\n",
    "if \"Subject\" in CB_vols_df.columns:\n",
    "    n_CB_participants = CB_vols_df[\"Subject\"].nunique()\n",
    "else:\n",
    "    n_CB_participants = CB_vols_df[\"participant_id\"].nunique()\n",
    "\n",
    "print(f\"n_CB_participants: {n_CB_participants}\")\n",
    "\n",
    "startification_col = \"diagnosis_group_for_analysis\"\n",
    "demo_cols = [\"participant_id\", startification_col]\n",
    "\n",
    "# filter dx group for analysis\n",
    "dx_df = dx_df[dx_df[startification_col].isin([\"control\", \"PD\"])][demo_cols]\n",
    "participants_per_group = dx_df.groupby([startification_col])[\"participant_id\"].nunique()\n",
    "print(f\"participants per group: {participants_per_group}\")\n",
    "\n",
    "CB_demo_vols_df = merge_CB_dx_df(CB_vols_df, dx_df[demo_cols], cerebellar_lobules)\n",
    "CB_demo_vols_df.head()"
   ]
  },
  {
   "cell_type": "markdown",
   "metadata": {},
   "source": [
    "### Remove outliers\n",
    " This is structure specific (need to be QCed visually)"
   ]
  },
  {
   "cell_type": "code",
   "execution_count": null,
   "metadata": {},
   "outputs": [],
   "source": [
    "remove_outliers = True\n",
    "\n",
    "min_vol_thresh_list = [25, 400, 900, 2000, 4500, 6000, 4000, 2000, 2000, 1500, 1500, 200, 4000, 32000]\n",
    "max_vol_thresh_list = [200, 1300, 3500, 6000, 11000, 18000, 13000, 7000, 8000, 5000, 6000, 800, 13000, 80000]\n",
    "outlier_min_thesh_dict = dict(zip(cerebellar_lobules, min_vol_thresh_list))\n",
    "outlier_max_thesh_dict = dict(zip(cerebellar_lobules, max_vol_thresh_list))\n",
    "\n",
    "if remove_outliers:\n",
    "\n",
    "    print(\"Removing outliers\")\n",
    "    for roi, thresh in outlier_min_thesh_dict.items():\n",
    "        n_participants = CB_demo_vols_df[\"participant_id\"].nunique()\n",
    "        print(f\"roi: {roi}, n_participants: {n_participants}\")\n",
    "        CB_demo_vols_df = CB_demo_vols_df[CB_demo_vols_df[roi] > thresh].copy()\n",
    "        n_participants = CB_demo_vols_df[\"participant_id\"].nunique()\n",
    "        print(f\"n_participants after outlier removal: {n_participants}\")\n",
    "\n",
    "    for roi, thresh in outlier_max_thesh_dict.items():\n",
    "        n_participants = CB_demo_vols_df[\"participant_id\"].nunique()\n",
    "        print(f\"roi: {roi}, n_participants: {n_participants}\")\n",
    "        CB_demo_vols_df = CB_demo_vols_df[CB_demo_vols_df[roi] < thresh].copy()\n",
    "        n_participants = CB_demo_vols_df[\"participant_id\"].nunique()\n",
    "        print(f\"n_participants after outlier removal: {n_participants}\")\n"
   ]
  },
  {
   "attachments": {},
   "cell_type": "markdown",
   "metadata": {},
   "source": [
    "### Plots"
   ]
  },
  {
   "cell_type": "code",
   "execution_count": null,
   "metadata": {},
   "outputs": [],
   "source": [
    "save_fig = True\n",
    "\n",
    "CB_vol_df_melt = CB_demo_vols_df.melt(\n",
    "    id_vars=demo_cols + [\"bids_id\", \"hemi\"],\n",
    "    var_name=\"ROI\", \n",
    "    value_name=\"volume\",\n",
    ")\n",
    "\n",
    "plot_df = CB_vol_df_melt.copy()\n",
    "plot_df = plot_df.rename(columns={\"diagnosis_group_for_analysis\": \"group\"})\n",
    "\n",
    "n_participants = plot_df[\"participant_id\"].nunique()\n",
    "print(f\"n_participants: {n_participants}\")\n",
    "\n",
    "sns.set_theme(font_scale=4)\n",
    "with sns.axes_style(\"whitegrid\"):\n",
    "    g = sns.catplot(y=\"volume\",x=\"hemi\", hue=\"group\", col=\"ROI\",kind=\"box\", col_wrap=7, #col_order=hemi_roi_list,\n",
    "    palette=palette, data=plot_df, aspect=1, height=10, sharey=False)\n",
    "    # g.tick_params(axis='x', rotation=90, labelsize=14)\n",
    "    \n",
    "if save_fig:\n",
    "    g.savefig(f\"{figs_dir}/CB_vol.png\")"
   ]
  },
  {
   "cell_type": "code",
   "execution_count": null,
   "metadata": {},
   "outputs": [],
   "source": []
  }
 ],
 "metadata": {
  "kernelspec": {
   "display_name": "parkinsons",
   "language": "python",
   "name": "python3"
  },
  "language_info": {
   "codemirror_mode": {
    "name": "ipython",
    "version": 3
   },
   "file_extension": ".py",
   "mimetype": "text/x-python",
   "name": "python",
   "nbconvert_exporter": "python",
   "pygments_lexer": "ipython3",
   "version": "3.10.12"
  }
 },
 "nbformat": 4,
 "nbformat_minor": 2
}
